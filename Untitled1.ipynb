{
 "cells": [
  {
   "cell_type": "code",
   "execution_count": 6,
   "id": "eight-summer",
   "metadata": {},
   "outputs": [],
   "source": [
    "import numpy as np\n",
    "from collections import deque, namedtuple\n",
    "import random"
   ]
  },
  {
   "cell_type": "code",
   "execution_count": 7,
   "id": "progressive-sharp",
   "metadata": {},
   "outputs": [],
   "source": [
    "d = deque(maxlen=10000)"
   ]
  },
  {
   "cell_type": "code",
   "execution_count": 10,
   "id": "acoustic-expense",
   "metadata": {},
   "outputs": [
    {
     "name": "stdout",
     "output_type": "stream",
     "text": [
      "15.3 ms ± 122 µs per loop (mean ± std. dev. of 7 runs, 100 loops each)\n"
     ]
    }
   ],
   "source": [
    "%%timeit\n",
    "\n",
    "for i in range(100000):\n",
    "    d.append((i, i+1, i+2, i+3))"
   ]
  },
  {
   "cell_type": "code",
   "execution_count": 9,
   "id": "bright-lewis",
   "metadata": {},
   "outputs": [
    {
     "name": "stdout",
     "output_type": "stream",
     "text": [
      "42.3 ms ± 177 µs per loop (mean ± std. dev. of 7 runs, 10 loops each)\n"
     ]
    }
   ],
   "source": [
    "%%timeit\n",
    "\n",
    "Transition = namedtuple('Transition', ('state', 'action', 'next_state', 'reward'))\n",
    "\n",
    "for i in range(100000):\n",
    "    t = Transition(i, i+1, i+2, i+3)\n",
    "    d.append(t)\n"
   ]
  },
  {
   "cell_type": "code",
   "execution_count": 11,
   "id": "excited-russell",
   "metadata": {},
   "outputs": [],
   "source": [
    "import numpy\n",
    "\n",
    "class SumTree:\n",
    "    write = 0\n",
    "\n",
    "    def __init__(self, capacity):\n",
    "        self.capacity = capacity\n",
    "        self.tree = numpy.zeros( 2*capacity - 1 )\n",
    "        self.data = numpy.zeros( capacity, dtype=object )\n",
    "\n",
    "    def _propagate(self, idx, change):\n",
    "        parent = (idx - 1) // 2\n",
    "\n",
    "        self.tree[parent] += change\n",
    "\n",
    "        if parent != 0:\n",
    "            self._propagate(parent, change)\n",
    "\n",
    "    def _retrieve(self, idx, s):\n",
    "        left = 2 * idx + 1\n",
    "        right = left + 1\n",
    "\n",
    "        if left >= len(self.tree):\n",
    "            return idx\n",
    "\n",
    "        if s <= self.tree[left]:\n",
    "            return self._retrieve(left, s)\n",
    "        else:\n",
    "            return self._retrieve(right, s-self.tree[left])\n",
    "\n",
    "    def total(self):\n",
    "        return self.tree[0]\n",
    "\n",
    "    def add(self, p, data):\n",
    "        idx = self.write + self.capacity - 1\n",
    "\n",
    "        self.data[self.write] = data\n",
    "        self.update(idx, p)\n",
    "\n",
    "        self.write += 1\n",
    "        if self.write >= self.capacity:\n",
    "            self.write = 0\n",
    "\n",
    "    def update(self, idx, p):\n",
    "        change = p - self.tree[idx]\n",
    "\n",
    "        self.tree[idx] = p\n",
    "        self._propagate(idx, change)\n",
    "\n",
    "    def get(self, s):\n",
    "        idx = self._retrieve(0, s)\n",
    "        dataIdx = idx - self.capacity + 1\n",
    "\n",
    "        return (idx, self.tree[idx], self.data[dataIdx])"
   ]
  },
  {
   "cell_type": "code",
   "execution_count": 245,
   "id": "japanese-pride",
   "metadata": {},
   "outputs": [],
   "source": [
    "replay_memory = SumTree(10)"
   ]
  },
  {
   "cell_type": "code",
   "execution_count": 18,
   "id": "pursuant-cambridge",
   "metadata": {},
   "outputs": [],
   "source": [
    "for i in range(10):\n",
    "    rb.add(i,None)"
   ]
  },
  {
   "cell_type": "code",
   "execution_count": 246,
   "id": "decreased-cycling",
   "metadata": {},
   "outputs": [],
   "source": [
    "P = [6, 48, 31, 26, 49, 43, 93, 74, 79, 13]\n",
    "\n",
    "for p in P:\n",
    "    replay_memory.add(p, None)"
   ]
  },
  {
   "cell_type": "code",
   "execution_count": 247,
   "id": "catholic-notification",
   "metadata": {},
   "outputs": [
    {
     "name": "stdout",
     "output_type": "stream",
     "text": [
      "6, 0.012987012987012988, 0.014\n",
      "48, 0.1038961038961039, 0.1071\n",
      "31, 0.0670995670995671, 0.0684\n",
      "26, 0.05627705627705628, 0.0596\n",
      "49, 0.10606060606060606, 0.1\n",
      "43, 0.09307359307359307, 0.0859\n",
      "93, 0.2012987012987013, 0.2049\n",
      "74, 0.16017316017316016, 0.1583\n",
      "79, 0.170995670995671, 0.1737\n",
      "13, 0.02813852813852814, 0.0281\n"
     ]
    }
   ],
   "source": [
    "from collections import defaultdict\n",
    "p_sum = defaultdict(int)\n",
    "\n",
    "for i in range(10000):\n",
    "    s = random.randint(0, replay_memory.total() - 1)\n",
    "    _, p, _ = replay_memory.get(s)\n",
    "    p_sum[int(p)] += 1\n",
    "\n",
    "for p in P:\n",
    "    print(\"{}, {}, {}\".format(p, p / sum(P), p_sum[p] / 10000))"
   ]
  },
  {
   "cell_type": "code",
   "execution_count": 177,
   "id": "facial-cleaner",
   "metadata": {},
   "outputs": [
    {
     "data": {
      "text/plain": [
       "(14, 43.0, None)"
      ]
     },
     "execution_count": 177,
     "metadata": {},
     "output_type": "execute_result"
    }
   ],
   "source": [
    "replay_memory.get(10000)"
   ]
  },
  {
   "cell_type": "code",
   "execution_count": 241,
   "id": "quantitative-funds",
   "metadata": {},
   "outputs": [],
   "source": [
    "replay_memory = SumTree(3)\n",
    "replay_memory.add(1,None)\n",
    "replay_memory.add(2,None)\n",
    "replay_memory.add(3,None)\n",
    "\n"
   ]
  },
  {
   "cell_type": "code",
   "execution_count": 242,
   "id": "animal-falls",
   "metadata": {},
   "outputs": [
    {
     "name": "stdout",
     "output_type": "stream",
     "text": [
      "1, 0.16666666666666666, 0.0\n",
      "2, 0.3333333333333333, 0.4966\n",
      "3, 0.5, 0.5034\n"
     ]
    }
   ],
   "source": [
    "from collections import defaultdict\n",
    "p_sum = defaultdict(int)\n",
    "\n",
    "for i in range(10000):\n",
    "    s = random.randint(0, replay_memory.total() - 1)\n",
    "    _, p, _ = replay_memory.get(s)\n",
    "    p_sum[int(p)] += 1\n",
    "\n",
    "for p in [1,2,3]:\n",
    "    print(\"{}, {}, {}\".format(p, p / sum([1,2,3]), p_sum[p] / 10000))"
   ]
  },
  {
   "cell_type": "code",
   "execution_count": 213,
   "id": "primary-curtis",
   "metadata": {},
   "outputs": [
    {
     "data": {
      "text/plain": [
       "(2, 7.0, None)"
      ]
     },
     "execution_count": 213,
     "metadata": {},
     "output_type": "execute_result"
    }
   ],
   "source": [
    "replay_memory.get()"
   ]
  },
  {
   "cell_type": "code",
   "execution_count": 6,
   "id": "incorporate-soundtrack",
   "metadata": {},
   "outputs": [
    {
     "name": "stdout",
     "output_type": "stream",
     "text": [
      "12.7 ms ± 61.5 µs per loop (mean ± std. dev. of 7 runs, 100 loops each)\n"
     ]
    }
   ],
   "source": [
    "%%timeit\n",
    "for index in range(100000):\n",
    "    if len(l) < 10000:\n",
    "        l.append(None)  # メモリが満タンでないときは足す\n",
    "        \n",
    "    index = (index) % 10000  # 保存するindexを1つずらす\n",
    "\n",
    "    l[index] = 10\n",
    "\n",
    "    "
   ]
  },
  {
   "cell_type": "code",
   "execution_count": 9,
   "id": "forbidden-cancer",
   "metadata": {},
   "outputs": [
    {
     "name": "stdout",
     "output_type": "stream",
     "text": [
      "15.7 s ± 143 ms per loop (mean ± std. dev. of 7 runs, 1 loop each)\n"
     ]
    }
   ],
   "source": [
    "%%timeit\n",
    "\n",
    "for _ in range(100000):\n",
    "    random.sample(d, 256)"
   ]
  },
  {
   "cell_type": "code",
   "execution_count": 15,
   "id": "introductory-diploma",
   "metadata": {},
   "outputs": [
    {
     "name": "stdout",
     "output_type": "stream",
     "text": [
      "44.4 s ± 173 ms per loop (mean ± std. dev. of 7 runs, 1 loop each)\n"
     ]
    }
   ],
   "source": [
    "%%timeit\n",
    "\n",
    "for _ in range(100000):\n",
    "    np.random.choice(l, 256)"
   ]
  },
  {
   "cell_type": "code",
   "execution_count": null,
   "id": "former-tooth",
   "metadata": {},
   "outputs": [],
   "source": []
  },
  {
   "cell_type": "code",
   "execution_count": null,
   "id": "renewable-dialogue",
   "metadata": {},
   "outputs": [],
   "source": [
    "d"
   ]
  },
  {
   "cell_type": "code",
   "execution_count": 14,
   "id": "private-pursuit",
   "metadata": {},
   "outputs": [
    {
     "ename": "TypeError",
     "evalue": "random_sample() takes at most 1 positional argument (2 given)",
     "output_type": "error",
     "traceback": [
      "\u001b[1;31m---------------------------------------------------------------------------\u001b[0m",
      "\u001b[1;31mTypeError\u001b[0m                                 Traceback (most recent call last)",
      "\u001b[1;32m<ipython-input-14-91ce9b6c53ce>\u001b[0m in \u001b[0;36m<module>\u001b[1;34m\u001b[0m\n\u001b[1;32m----> 1\u001b[1;33m \u001b[0mnp\u001b[0m\u001b[1;33m.\u001b[0m\u001b[0mrandom\u001b[0m\u001b[1;33m.\u001b[0m\u001b[0msample\u001b[0m\u001b[1;33m(\u001b[0m\u001b[0ml\u001b[0m\u001b[1;33m,\u001b[0m\u001b[1;36m2\u001b[0m\u001b[1;33m)\u001b[0m\u001b[1;33m\u001b[0m\u001b[1;33m\u001b[0m\u001b[0m\n\u001b[0m",
      "\u001b[1;32mmtrand.pyx\u001b[0m in \u001b[0;36mnumpy.random.mtrand.sample\u001b[1;34m()\u001b[0m\n",
      "\u001b[1;32mmtrand.pyx\u001b[0m in \u001b[0;36mnumpy.random.mtrand.RandomState.random_sample\u001b[1;34m()\u001b[0m\n",
      "\u001b[1;31mTypeError\u001b[0m: random_sample() takes at most 1 positional argument (2 given)"
     ]
    }
   ],
   "source": [
    "np.random.(l,2)"
   ]
  }
 ],
 "metadata": {
  "kernelspec": {
   "display_name": "Python 3",
   "language": "python",
   "name": "python3"
  },
  "language_info": {
   "codemirror_mode": {
    "name": "ipython",
    "version": 3
   },
   "file_extension": ".py",
   "mimetype": "text/x-python",
   "name": "python",
   "nbconvert_exporter": "python",
   "pygments_lexer": "ipython3",
   "version": "3.7.6"
  }
 },
 "nbformat": 4,
 "nbformat_minor": 5
}
