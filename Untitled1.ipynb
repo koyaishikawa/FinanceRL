{
 "cells": [
  {
   "cell_type": "code",
   "execution_count": 4,
   "id": "related-layout",
   "metadata": {},
   "outputs": [],
   "source": [
    "import torch.nn as nn\n",
    "import torch.nn.functional as F\n",
    "import torch\n",
    "import numpy as np"
   ]
  },
  {
   "cell_type": "code",
   "execution_count": 73,
   "id": "front-afternoon",
   "metadata": {},
   "outputs": [],
   "source": [
    "class Net(nn.Module):\n",
    "    def __init__(self, n_input, n_output):\n",
    "        super(Net, self).__init__()\n",
    "        self.fc1 = nn.Linear(n_input, n_output)\n",
    "        self.fc2 = nn.Linear(2, n_output)\n",
    "    \n",
    "    def forward(self, state):\n",
    "        h1 = self.fc1(state)\n",
    "        h2 = self.fc2(state[:,1:])\n",
    "        output = h1+h2\n",
    "        return output\n",
    "    \n",
    "model = Net(3,2)\n",
    "model.fc1.bias = nn.Parameter(torch.zeros(2))\n",
    "model.fc2.bias = nn.Parameter(torch.zeros(2))"
   ]
  },
  {
   "cell_type": "code",
   "execution_count": 74,
   "id": "iraqi-joshua",
   "metadata": {},
   "outputs": [
    {
     "data": {
      "text/plain": [
       "tensor([[1., 2., 3.]])"
      ]
     },
     "execution_count": 74,
     "metadata": {},
     "output_type": "execute_result"
    }
   ],
   "source": [
    "tmp = torch.FloatTensor([[1,2,3]])\n",
    "tmp"
   ]
  },
  {
   "cell_type": "code",
   "execution_count": 75,
   "id": "human-understanding",
   "metadata": {},
   "outputs": [],
   "source": [
    "output = model(tmp)"
   ]
  },
  {
   "cell_type": "code",
   "execution_count": 76,
   "id": "running-bibliography",
   "metadata": {},
   "outputs": [],
   "source": [
    "mean = torch.mean(output)"
   ]
  },
  {
   "cell_type": "code",
   "execution_count": 77,
   "id": "laden-medium",
   "metadata": {},
   "outputs": [],
   "source": [
    "mean.backward()"
   ]
  },
  {
   "cell_type": "code",
   "execution_count": 5,
   "id": "mysterious-static",
   "metadata": {},
   "outputs": [
    {
     "data": {
      "text/plain": [
       "(tensor([[1., 1., 1.],\n",
       "         [1., 1., 1.]]),\n",
       " tensor([[0., 0., 0.],\n",
       "         [0., 0., 0.]]))"
      ]
     },
     "execution_count": 5,
     "metadata": {},
     "output_type": "execute_result"
    }
   ],
   "source": [
    "a = torch.ones(2,3)\n",
    "b = torch.zeros(2,3)\n",
    "a,b"
   ]
  },
  {
   "cell_type": "code",
   "execution_count": 17,
   "id": "headed-submission",
   "metadata": {},
   "outputs": [
    {
     "data": {
      "text/plain": [
       "torch.Size([2, 3])"
      ]
     },
     "execution_count": 17,
     "metadata": {},
     "output_type": "execute_result"
    }
   ],
   "source": [
    "a.size()"
   ]
  },
  {
   "cell_type": "code",
   "execution_count": 32,
   "id": "overall-wrong",
   "metadata": {},
   "outputs": [
    {
     "data": {
      "text/plain": [
       "tensor([[1.],\n",
       "        [1.]])"
      ]
     },
     "execution_count": 32,
     "metadata": {},
     "output_type": "execute_result"
    }
   ],
   "source": [
    "torch.mean(a, axis=1, keepdim=True)"
   ]
  },
  {
   "cell_type": "code",
   "execution_count": 19,
   "id": "cordless-chambers",
   "metadata": {},
   "outputs": [
    {
     "data": {
      "text/plain": [
       "torch.Size([2, 1])"
      ]
     },
     "execution_count": 19,
     "metadata": {},
     "output_type": "execute_result"
    }
   ],
   "source": [
    "b = torch.zeros(2).view(2,1)\n",
    "b.size()"
   ]
  },
  {
   "cell_type": "code",
   "execution_count": null,
   "id": "asian-maple",
   "metadata": {},
   "outputs": [],
   "source": []
  }
 ],
 "metadata": {
  "kernelspec": {
   "display_name": "Python 3",
   "language": "python",
   "name": "python3"
  },
  "language_info": {
   "codemirror_mode": {
    "name": "ipython",
    "version": 3
   },
   "file_extension": ".py",
   "mimetype": "text/x-python",
   "name": "python",
   "nbconvert_exporter": "python",
   "pygments_lexer": "ipython3",
   "version": "3.6.12"
  }
 },
 "nbformat": 4,
 "nbformat_minor": 5
}
